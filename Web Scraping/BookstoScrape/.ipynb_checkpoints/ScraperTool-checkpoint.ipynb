{
 "cells": [
  {
   "cell_type": "code",
   "execution_count": 6,
   "metadata": {},
   "outputs": [
    {
     "name": "stdout",
     "output_type": "stream",
     "text": [
      "['A Light in the Attic', 'Tipping the Velvet', 'Soumission', 'Sharp Objects', 'Sapiens: A Brief History of Humankind', 'The Requiem Red', 'The Dirty Little Secrets of Getting Your Dream Job', 'The Coming Woman: A Novel Based on the Life of the Infamous Feminist, Victoria Woodhull', 'The Boys in the Boat: Nine Americans and Their Epic Quest for Gold at the 1936 Berlin Olympics', 'The Black Maria', 'Starving Hearts (Triangular Trade Trilogy, #1)', \"Shakespeare's Sonnets\", 'Set Me Free', \"Scott Pilgrim's Precious Little Life (Scott Pilgrim #1)\", 'Rip it Up and Start Again', 'Our Band Could Be Your Life: Scenes from the American Indie Underground, 1981-1991', 'Olio', 'Mesaerion: The Best Science Fiction Stories 1800-1849', 'Libertarianism for Beginners', \"It's Only the Himalayas\"]\n"
     ]
    }
   ],
   "source": [
    "from bs4 import BeautifulSoup as Bs           #formatting the data to a readable format,which we get using the requests library.\n",
    "import requests\n",
    "import pandas as pd                           #to put the data into dataframes.\n",
    "pages=[]\n",
    "stars=[]\n",
    "titles=[]\n",
    "url_ss=[]\n",
    "prices=[]\n",
    "pages_to_scrape=1\n",
    "for i in range(1,pages_to_scrape+1):\n",
    "    url=(\"http://books.toscrape.com/catalogue/page-{}.html\").format(i)\n",
    "    pages.append(url)\n",
    "    #print(pages)                                         #printing the pages to be scraped.\n",
    "    \n",
    "for item in pages:\n",
    "    page=requests.get(item)\n",
    "    soup=Bs(page.text,\"html.parser\")\n",
    "    #print(soup.prettify())                                #prettify will make it more like \n",
    "                                                           #the original html file  \n",
    "    for i in soup.findAll(\"h3\"):\n",
    "        title=str(i.find(\"a\")[\"title\"])\n",
    "        titles.append(title)\n",
    "    #print((titles))\n",
    "    \n",
    "    for j in soup.findAll(\"p\",class_=\"price_color\"):       #class_ is necessary as class is a reserved keyword.\n",
    "        price=j.getText()\n",
    "        prices.append(price)\n",
    "    #print(prices)\n",
    "    \n",
    "    for s in soup.findAll(\"p\",class_=\"star-rating\"):\n",
    "        for k,v in s.attrs.items():                        #to get inside the p class to get star-rating information.\n",
    "            star=v[1]                       #attrs for attributes of the p tag.(dictionary class(key):attr(value))\n",
    "            stars.append(star)                                          #class :[\"star-rating\",\"rating\"]\n",
    "    #print(stars)                                                                   #0             1    hence v[1].\n",
    "    \n",
    "    divs=soup.findAll(\"div\",class_=\"image_container\")\n",
    "    for thumbs in divs:\n",
    "        tgs=thumbs.find(\"img\",class_=\"thumbnail\")\n",
    "        urls=\"http://books.toscrape.com/\"+str(tgs[\"src\"])       #to get the link of image.\n",
    "        new_urls=urls.replace(\"../\",\"\")                         #replacing the default format.\n",
    "        url_ss.append(new_urls)\n",
    "    #print(url_ss)\n",
    "    \n",
    "    "
   ]
  },
  {
   "cell_type": "code",
   "execution_count": 46,
   "metadata": {},
   "outputs": [],
   "source": [
    "data={\"Titles\":titles,\"Prices\":prices,\"Stars\":stars,\"URLs\":url_ss}"
   ]
  },
  {
   "cell_type": "code",
   "execution_count": 47,
   "metadata": {},
   "outputs": [],
   "source": [
    "df=pd.DataFrame(data=data)\n",
    "df.index+=1       #changing the indexing from 0 to 1.\n",
    "df.to_excel(\"BookStore.xlsx\")"
   ]
  },
  {
   "cell_type": "code",
   "execution_count": null,
   "metadata": {},
   "outputs": [],
   "source": []
  }
 ],
 "metadata": {
  "kernelspec": {
   "display_name": "Python 3",
   "language": "python",
   "name": "python3"
  },
  "language_info": {
   "codemirror_mode": {
    "name": "ipython",
    "version": 3
   },
   "file_extension": ".py",
   "mimetype": "text/x-python",
   "name": "python",
   "nbconvert_exporter": "python",
   "pygments_lexer": "ipython3",
   "version": "3.7.4"
  }
 },
 "nbformat": 4,
 "nbformat_minor": 2
}
