{
 "metadata": {
  "language_info": {
   "codemirror_mode": {
    "name": "ipython",
    "version": 3
   },
   "file_extension": ".py",
   "mimetype": "text/x-python",
   "name": "python",
   "nbconvert_exporter": "python",
   "pygments_lexer": "ipython3",
   "version": "3.7.4-final"
  },
  "orig_nbformat": 2,
  "kernelspec": {
   "name": "Python 3.7.4 64-bit ('OCAC': virtualenv)",
   "display_name": "Python 3.7.4 64-bit ('OCAC': virtualenv)",
   "metadata": {
    "interpreter": {
     "hash": "db2fad4305dc12688394a70fe046bb31f1d5ded38d6b98b734420a7b02746762"
    }
   }
  }
 },
 "nbformat": 4,
 "nbformat_minor": 2,
 "cells": [
  {
   "source": [
    "Scraping Premier League Data 2011\n",
    "1.Teams\n",
    "2.Points"
   ],
   "cell_type": "markdown",
   "metadata": {}
  },
  {
   "cell_type": "code",
   "execution_count": 20,
   "metadata": {},
   "outputs": [],
   "source": [
    "import requests\n",
    "from bs4 import BeautifulSoup\n",
    "import pandas as pd"
   ]
  },
  {
   "cell_type": "code",
   "execution_count": 2,
   "metadata": {},
   "outputs": [],
   "source": [
    "url=\"https://www.skysports.com/premier-league-table/2011\"\n",
    "req=requests.get(url)"
   ]
  },
  {
   "cell_type": "code",
   "execution_count": 3,
   "metadata": {},
   "outputs": [],
   "source": [
    "bsObj=BeautifulSoup(req.text,\"html.parser\")\n",
    "league=bsObj.find(\"table\",class_=\"standing-table__table\")\n",
    "league_table=league.find_all(\"tbody\")"
   ]
  },
  {
   "cell_type": "code",
   "execution_count": 21,
   "metadata": {},
   "outputs": [
    {
     "output_type": "stream",
     "name": "stdout",
     "text": [
      "Manchester City 89\nManchester United 89\nArsenal 70\nTottenham Hotspur 69\nNewcastle United 65\nChelsea 64\nEverton 56\nLiverpool 52\nFulham 52\nWest Bromwich Albion 47\nSwansea City 47\nNorwich City 47\nSunderland 45\nStoke City 45\nWigan Athletic 43\nAston Villa 38\nQueens Park Rangers 37\nBolton Wanderers 36\nBlackburn Rovers 31\nWolverhampton Wanderers 25\n"
     ]
    }
   ],
   "source": [
    "\n",
    "for teams in league_table:\n",
    "    rows=teams.find_all(\"tr\",class_=\"standing-table__row\")\n",
    "    for row in rows:\n",
    "        team_names=row.find(\"td\",class_=\"standing-table__cell standing-table__cell--name\")\n",
    "        team_points=row.find_all(\"td\",class_=\"standing-table__cell\")[9]\n",
    "        print(team_names.text.strip(),team_points.text.strip())"
   ]
  },
  {
   "cell_type": "code",
   "execution_count": 22,
   "metadata": {},
   "outputs": [],
   "source": [
    "league_2011=[]\n",
    "for teams in league_table:\n",
    "    rows=teams.find_all(\"tr\",class_=\"standing-table__row\")\n",
    "    for row in rows:\n",
    "        team_name=row.find(\"td\",class_=\"standing-table__cell standing-table__cell--name\").text.strip()\n",
    "        team_points=row.find_all(\"td\",class_=\"standing-table__cell\")[9].text.strip()\n",
    "        league_dict={\"name\":team_name,\"points\":team_points}\n",
    "        league_2011.append(league_dict)\n",
    "        "
   ]
  },
  {
   "cell_type": "code",
   "execution_count": 23,
   "metadata": {},
   "outputs": [
    {
     "output_type": "execute_result",
     "data": {
      "text/plain": [
       "                name points\n",
       "0    Manchester City     89\n",
       "1  Manchester United     89\n",
       "2            Arsenal     70\n",
       "3  Tottenham Hotspur     69\n",
       "4   Newcastle United     65"
      ],
      "text/html": "<div>\n<style scoped>\n    .dataframe tbody tr th:only-of-type {\n        vertical-align: middle;\n    }\n\n    .dataframe tbody tr th {\n        vertical-align: top;\n    }\n\n    .dataframe thead th {\n        text-align: right;\n    }\n</style>\n<table border=\"1\" class=\"dataframe\">\n  <thead>\n    <tr style=\"text-align: right;\">\n      <th></th>\n      <th>name</th>\n      <th>points</th>\n    </tr>\n  </thead>\n  <tbody>\n    <tr>\n      <td>0</td>\n      <td>Manchester City</td>\n      <td>89</td>\n    </tr>\n    <tr>\n      <td>1</td>\n      <td>Manchester United</td>\n      <td>89</td>\n    </tr>\n    <tr>\n      <td>2</td>\n      <td>Arsenal</td>\n      <td>70</td>\n    </tr>\n    <tr>\n      <td>3</td>\n      <td>Tottenham Hotspur</td>\n      <td>69</td>\n    </tr>\n    <tr>\n      <td>4</td>\n      <td>Newcastle United</td>\n      <td>65</td>\n    </tr>\n  </tbody>\n</table>\n</div>"
     },
     "metadata": {},
     "execution_count": 23
    }
   ],
   "source": [
    "df=pd.DataFrame(league_2011)\n",
    "df.head()"
   ]
  },
  {
   "cell_type": "code",
   "execution_count": 24,
   "metadata": {},
   "outputs": [
    {
     "output_type": "execute_result",
     "data": {
      "text/plain": [
       "                       name points\n",
       "0           Manchester City     89\n",
       "1         Manchester United     89\n",
       "2                   Arsenal     70\n",
       "3         Tottenham Hotspur     69\n",
       "4          Newcastle United     65\n",
       "5                   Chelsea     64\n",
       "6                   Everton     56\n",
       "7                 Liverpool     52\n",
       "8                    Fulham     52\n",
       "9      West Bromwich Albion     47\n",
       "10             Swansea City     47\n",
       "11             Norwich City     47\n",
       "12               Sunderland     45\n",
       "13               Stoke City     45\n",
       "14           Wigan Athletic     43\n",
       "15              Aston Villa     38\n",
       "16      Queens Park Rangers     37\n",
       "17         Bolton Wanderers     36\n",
       "18         Blackburn Rovers     31\n",
       "19  Wolverhampton Wanderers     25"
      ],
      "text/html": "<div>\n<style scoped>\n    .dataframe tbody tr th:only-of-type {\n        vertical-align: middle;\n    }\n\n    .dataframe tbody tr th {\n        vertical-align: top;\n    }\n\n    .dataframe thead th {\n        text-align: right;\n    }\n</style>\n<table border=\"1\" class=\"dataframe\">\n  <thead>\n    <tr style=\"text-align: right;\">\n      <th></th>\n      <th>name</th>\n      <th>points</th>\n    </tr>\n  </thead>\n  <tbody>\n    <tr>\n      <td>0</td>\n      <td>Manchester City</td>\n      <td>89</td>\n    </tr>\n    <tr>\n      <td>1</td>\n      <td>Manchester United</td>\n      <td>89</td>\n    </tr>\n    <tr>\n      <td>2</td>\n      <td>Arsenal</td>\n      <td>70</td>\n    </tr>\n    <tr>\n      <td>3</td>\n      <td>Tottenham Hotspur</td>\n      <td>69</td>\n    </tr>\n    <tr>\n      <td>4</td>\n      <td>Newcastle United</td>\n      <td>65</td>\n    </tr>\n    <tr>\n      <td>5</td>\n      <td>Chelsea</td>\n      <td>64</td>\n    </tr>\n    <tr>\n      <td>6</td>\n      <td>Everton</td>\n      <td>56</td>\n    </tr>\n    <tr>\n      <td>7</td>\n      <td>Liverpool</td>\n      <td>52</td>\n    </tr>\n    <tr>\n      <td>8</td>\n      <td>Fulham</td>\n      <td>52</td>\n    </tr>\n    <tr>\n      <td>9</td>\n      <td>West Bromwich Albion</td>\n      <td>47</td>\n    </tr>\n    <tr>\n      <td>10</td>\n      <td>Swansea City</td>\n      <td>47</td>\n    </tr>\n    <tr>\n      <td>11</td>\n      <td>Norwich City</td>\n      <td>47</td>\n    </tr>\n    <tr>\n      <td>12</td>\n      <td>Sunderland</td>\n      <td>45</td>\n    </tr>\n    <tr>\n      <td>13</td>\n      <td>Stoke City</td>\n      <td>45</td>\n    </tr>\n    <tr>\n      <td>14</td>\n      <td>Wigan Athletic</td>\n      <td>43</td>\n    </tr>\n    <tr>\n      <td>15</td>\n      <td>Aston Villa</td>\n      <td>38</td>\n    </tr>\n    <tr>\n      <td>16</td>\n      <td>Queens Park Rangers</td>\n      <td>37</td>\n    </tr>\n    <tr>\n      <td>17</td>\n      <td>Bolton Wanderers</td>\n      <td>36</td>\n    </tr>\n    <tr>\n      <td>18</td>\n      <td>Blackburn Rovers</td>\n      <td>31</td>\n    </tr>\n    <tr>\n      <td>19</td>\n      <td>Wolverhampton Wanderers</td>\n      <td>25</td>\n    </tr>\n  </tbody>\n</table>\n</div>"
     },
     "metadata": {},
     "execution_count": 24
    }
   ],
   "source": [
    "df"
   ]
  },
  {
   "cell_type": "code",
   "execution_count": null,
   "metadata": {},
   "outputs": [],
   "source": []
  }
 ]
}