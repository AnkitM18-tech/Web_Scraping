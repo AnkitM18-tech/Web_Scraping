{
 "metadata": {
  "language_info": {
   "codemirror_mode": {
    "name": "ipython",
    "version": 3
   },
   "file_extension": ".py",
   "mimetype": "text/x-python",
   "name": "python",
   "nbconvert_exporter": "python",
   "pygments_lexer": "ipython3",
   "version": "3.7.4-final"
  },
  "orig_nbformat": 2,
  "kernelspec": {
   "name": "Python 3.7.4 64-bit ('OCAC': virtualenv)",
   "display_name": "Python 3.7.4 64-bit ('OCAC': virtualenv)",
   "metadata": {
    "interpreter": {
     "hash": "db2fad4305dc12688394a70fe046bb31f1d5ded38d6b98b734420a7b02746762"
    }
   }
  }
 },
 "nbformat": 4,
 "nbformat_minor": 2,
 "cells": [
  {
   "cell_type": "code",
   "execution_count": 1,
   "metadata": {},
   "outputs": [],
   "source": [
    "import requests\n",
    "from bs4 import BeautifulSoup\n",
    "import pandas as pd"
   ]
  },
  {
   "cell_type": "code",
   "execution_count": 2,
   "metadata": {},
   "outputs": [],
   "source": [
    "url=\"https://en.wikipedia.org/wiki/List_of_Game_of_Thrones_episodes\"\n",
    "req=requests.get(url)"
   ]
  },
  {
   "cell_type": "code",
   "execution_count": 3,
   "metadata": {},
   "outputs": [],
   "source": [
    "bsObj=BeautifulSoup(req.text,\"html.parser\")\n",
    "episodes_table=bsObj.find_all(\"table\",class_=\"wikitable plainrowheaders wikiepisodetable\")\n"
   ]
  },
  {
   "cell_type": "code",
   "execution_count": 16,
   "metadata": {},
   "outputs": [],
   "source": [
    "for table in episodes_table:\n",
    "    rows=table.find_all(\"tr\",class_=\"vevent\")\n",
    "    for row in rows:\n",
    "        Number_in_Season=row.find_all(\"th\")[0].get_text()\n",
    "        Director=row.find_all(\"td\")[2].get_text()\n",
    "        Episode_Name=row.find_all(\"td\")[1].get_text()\n",
    "        "
   ]
  },
  {
   "cell_type": "code",
   "execution_count": 17,
   "metadata": {},
   "outputs": [],
   "source": [
    "episodes=[]\n",
    "for table in episodes_table:\n",
    "    headers=[]\n",
    "    for header in table.find(\"tr\").find_all(\"th\"):\n",
    "        headers.append(header.text)\n",
    "    for row in table.find_all(\"tr\")[1:]:\n",
    "        values=[]\n",
    "        for col in row.find_all([\"th\",\"td\"]):\n",
    "            values.append(col.text)\n",
    "        episode_dict={headers[i]:values[i] for i in range(len(values))}\n",
    "        episodes.append(episode_dict)"
   ]
  },
  {
   "cell_type": "code",
   "execution_count": 19,
   "metadata": {},
   "outputs": [],
   "source": [
    "df=pd.DataFrame(episodes)"
   ]
  },
  {
   "cell_type": "code",
   "execution_count": 21,
   "metadata": {},
   "outputs": [
    {
     "output_type": "execute_result",
     "data": {
      "text/plain": [
       "  No.overall No. inseason                                    Title  \\\n",
       "0          1            1                       \"Winter Is Coming\"   \n",
       "1          2            2                          \"The Kingsroad\"   \n",
       "2          3            3                              \"Lord Snow\"   \n",
       "3          4            4  \"Cripples, Bastards, and Broken Things\"   \n",
       "4          5            5                  \"The Wolf and the Lion\"   \n",
       "\n",
       "      Directed by                   Written by       Original air date [20]  \\\n",
       "0  Tim Van Patten  David Benioff & D. B. Weiss  April 17, 2011 (2011-04-17)   \n",
       "1  Tim Van Patten  David Benioff & D. B. Weiss  April 24, 2011 (2011-04-24)   \n",
       "2      Brian Kirk  David Benioff & D. B. Weiss     May 1, 2011 (2011-05-01)   \n",
       "3      Brian Kirk                 Bryan Cogman     May 8, 2011 (2011-05-08)   \n",
       "4      Brian Kirk  David Benioff & D. B. Weiss    May 15, 2011 (2011-05-15)   \n",
       "\n",
       "  U.S. viewers(millions)  No. Original air date  \n",
       "0               2.22[21]  NaN               NaN  \n",
       "1               2.20[22]  NaN               NaN  \n",
       "2               2.44[23]  NaN               NaN  \n",
       "3               2.45[24]  NaN               NaN  \n",
       "4               2.58[25]  NaN               NaN  "
      ],
      "text/html": "<div>\n<style scoped>\n    .dataframe tbody tr th:only-of-type {\n        vertical-align: middle;\n    }\n\n    .dataframe tbody tr th {\n        vertical-align: top;\n    }\n\n    .dataframe thead th {\n        text-align: right;\n    }\n</style>\n<table border=\"1\" class=\"dataframe\">\n  <thead>\n    <tr style=\"text-align: right;\">\n      <th></th>\n      <th>No.overall</th>\n      <th>No. inseason</th>\n      <th>Title</th>\n      <th>Directed by</th>\n      <th>Written by</th>\n      <th>Original air date [20]</th>\n      <th>U.S. viewers(millions)</th>\n      <th>No.</th>\n      <th>Original air date</th>\n    </tr>\n  </thead>\n  <tbody>\n    <tr>\n      <td>0</td>\n      <td>1</td>\n      <td>1</td>\n      <td>\"Winter Is Coming\"</td>\n      <td>Tim Van Patten</td>\n      <td>David Benioff &amp; D. B. Weiss</td>\n      <td>April 17, 2011 (2011-04-17)</td>\n      <td>2.22[21]</td>\n      <td>NaN</td>\n      <td>NaN</td>\n    </tr>\n    <tr>\n      <td>1</td>\n      <td>2</td>\n      <td>2</td>\n      <td>\"The Kingsroad\"</td>\n      <td>Tim Van Patten</td>\n      <td>David Benioff &amp; D. B. Weiss</td>\n      <td>April 24, 2011 (2011-04-24)</td>\n      <td>2.20[22]</td>\n      <td>NaN</td>\n      <td>NaN</td>\n    </tr>\n    <tr>\n      <td>2</td>\n      <td>3</td>\n      <td>3</td>\n      <td>\"Lord Snow\"</td>\n      <td>Brian Kirk</td>\n      <td>David Benioff &amp; D. B. Weiss</td>\n      <td>May 1, 2011 (2011-05-01)</td>\n      <td>2.44[23]</td>\n      <td>NaN</td>\n      <td>NaN</td>\n    </tr>\n    <tr>\n      <td>3</td>\n      <td>4</td>\n      <td>4</td>\n      <td>\"Cripples, Bastards, and Broken Things\"</td>\n      <td>Brian Kirk</td>\n      <td>Bryan Cogman</td>\n      <td>May 8, 2011 (2011-05-08)</td>\n      <td>2.45[24]</td>\n      <td>NaN</td>\n      <td>NaN</td>\n    </tr>\n    <tr>\n      <td>4</td>\n      <td>5</td>\n      <td>5</td>\n      <td>\"The Wolf and the Lion\"</td>\n      <td>Brian Kirk</td>\n      <td>David Benioff &amp; D. B. Weiss</td>\n      <td>May 15, 2011 (2011-05-15)</td>\n      <td>2.58[25]</td>\n      <td>NaN</td>\n      <td>NaN</td>\n    </tr>\n  </tbody>\n</table>\n</div>"
     },
     "metadata": {},
     "execution_count": 21
    }
   ],
   "source": [
    "df.head()"
   ]
  },
  {
   "cell_type": "code",
   "execution_count": 22,
   "metadata": {},
   "outputs": [
    {
     "output_type": "execute_result",
     "data": {
      "text/plain": [
       "   No.overall No. inseason                                    Title  \\\n",
       "0           1            1                       \"Winter Is Coming\"   \n",
       "1           2            2                          \"The Kingsroad\"   \n",
       "2           3            3                              \"Lord Snow\"   \n",
       "3           4            4  \"Cripples, Bastards, and Broken Things\"   \n",
       "4           5            5                  \"The Wolf and the Lion\"   \n",
       "..        ...          ...                                      ...   \n",
       "72         73            6                        \"The Iron Throne\"   \n",
       "73        NaN          NaN       Game of Thrones: A Day in the Life   \n",
       "74        NaN          NaN                                      NaN   \n",
       "75        NaN          NaN          Game of Thrones: The Last Watch   \n",
       "76        NaN          NaN                                      NaN   \n",
       "\n",
       "                    Directed by                   Written by  \\\n",
       "0                Tim Van Patten  David Benioff & D. B. Weiss   \n",
       "1                Tim Van Patten  David Benioff & D. B. Weiss   \n",
       "2                    Brian Kirk  David Benioff & D. B. Weiss   \n",
       "3                    Brian Kirk                 Bryan Cogman   \n",
       "4                    Brian Kirk  David Benioff & D. B. Weiss   \n",
       "..                          ...                          ...   \n",
       "72  David Benioff & D. B. Weiss  David Benioff & D. B. Weiss   \n",
       "73                          NaN                          NaN   \n",
       "74                          NaN                          NaN   \n",
       "75                          NaN                          NaN   \n",
       "76                          NaN                          NaN   \n",
       "\n",
       "         Original air date [20] U.S. viewers(millions)  \\\n",
       "0   April 17, 2011 (2011-04-17)               2.22[21]   \n",
       "1   April 24, 2011 (2011-04-24)               2.20[22]   \n",
       "2      May 1, 2011 (2011-05-01)               2.44[23]   \n",
       "3      May 8, 2011 (2011-05-08)               2.45[24]   \n",
       "4     May 15, 2011 (2011-05-15)               2.58[25]   \n",
       "..                          ...                    ...   \n",
       "72    May 19, 2019 (2019-05-19)              13.61[93]   \n",
       "73                          NaN                    N/A   \n",
       "74                          NaN                    NaN   \n",
       "75                          NaN               1.63[96]   \n",
       "76                          NaN                    NaN   \n",
       "\n",
       "                                                  No.  \\\n",
       "0                                                 NaN   \n",
       "1                                                 NaN   \n",
       "2                                                 NaN   \n",
       "3                                                 NaN   \n",
       "4                                                 NaN   \n",
       "..                                                ...   \n",
       "72                                                NaN   \n",
       "73                                                  1   \n",
       "74  \\nA half-hour documentary that covered one day...   \n",
       "75                                                  2   \n",
       "76  \\nA two-hour documentary which documents the m...   \n",
       "\n",
       "                Original air date  \n",
       "0                             NaN  \n",
       "1                             NaN  \n",
       "2                             NaN  \n",
       "3                             NaN  \n",
       "4                             NaN  \n",
       "..                            ...  \n",
       "72                            NaN  \n",
       "73  February 8, 2015 (2015-02-08)  \n",
       "74                            NaN  \n",
       "75      May 26, 2019 (2019-05-26)  \n",
       "76                            NaN  \n",
       "\n",
       "[77 rows x 9 columns]"
      ],
      "text/html": "<div>\n<style scoped>\n    .dataframe tbody tr th:only-of-type {\n        vertical-align: middle;\n    }\n\n    .dataframe tbody tr th {\n        vertical-align: top;\n    }\n\n    .dataframe thead th {\n        text-align: right;\n    }\n</style>\n<table border=\"1\" class=\"dataframe\">\n  <thead>\n    <tr style=\"text-align: right;\">\n      <th></th>\n      <th>No.overall</th>\n      <th>No. inseason</th>\n      <th>Title</th>\n      <th>Directed by</th>\n      <th>Written by</th>\n      <th>Original air date [20]</th>\n      <th>U.S. viewers(millions)</th>\n      <th>No.</th>\n      <th>Original air date</th>\n    </tr>\n  </thead>\n  <tbody>\n    <tr>\n      <td>0</td>\n      <td>1</td>\n      <td>1</td>\n      <td>\"Winter Is Coming\"</td>\n      <td>Tim Van Patten</td>\n      <td>David Benioff &amp; D. B. Weiss</td>\n      <td>April 17, 2011 (2011-04-17)</td>\n      <td>2.22[21]</td>\n      <td>NaN</td>\n      <td>NaN</td>\n    </tr>\n    <tr>\n      <td>1</td>\n      <td>2</td>\n      <td>2</td>\n      <td>\"The Kingsroad\"</td>\n      <td>Tim Van Patten</td>\n      <td>David Benioff &amp; D. B. Weiss</td>\n      <td>April 24, 2011 (2011-04-24)</td>\n      <td>2.20[22]</td>\n      <td>NaN</td>\n      <td>NaN</td>\n    </tr>\n    <tr>\n      <td>2</td>\n      <td>3</td>\n      <td>3</td>\n      <td>\"Lord Snow\"</td>\n      <td>Brian Kirk</td>\n      <td>David Benioff &amp; D. B. Weiss</td>\n      <td>May 1, 2011 (2011-05-01)</td>\n      <td>2.44[23]</td>\n      <td>NaN</td>\n      <td>NaN</td>\n    </tr>\n    <tr>\n      <td>3</td>\n      <td>4</td>\n      <td>4</td>\n      <td>\"Cripples, Bastards, and Broken Things\"</td>\n      <td>Brian Kirk</td>\n      <td>Bryan Cogman</td>\n      <td>May 8, 2011 (2011-05-08)</td>\n      <td>2.45[24]</td>\n      <td>NaN</td>\n      <td>NaN</td>\n    </tr>\n    <tr>\n      <td>4</td>\n      <td>5</td>\n      <td>5</td>\n      <td>\"The Wolf and the Lion\"</td>\n      <td>Brian Kirk</td>\n      <td>David Benioff &amp; D. B. Weiss</td>\n      <td>May 15, 2011 (2011-05-15)</td>\n      <td>2.58[25]</td>\n      <td>NaN</td>\n      <td>NaN</td>\n    </tr>\n    <tr>\n      <td>...</td>\n      <td>...</td>\n      <td>...</td>\n      <td>...</td>\n      <td>...</td>\n      <td>...</td>\n      <td>...</td>\n      <td>...</td>\n      <td>...</td>\n      <td>...</td>\n    </tr>\n    <tr>\n      <td>72</td>\n      <td>73</td>\n      <td>6</td>\n      <td>\"The Iron Throne\"</td>\n      <td>David Benioff &amp; D. B. Weiss</td>\n      <td>David Benioff &amp; D. B. Weiss</td>\n      <td>May 19, 2019 (2019-05-19)</td>\n      <td>13.61[93]</td>\n      <td>NaN</td>\n      <td>NaN</td>\n    </tr>\n    <tr>\n      <td>73</td>\n      <td>NaN</td>\n      <td>NaN</td>\n      <td>Game of Thrones: A Day in the Life</td>\n      <td>NaN</td>\n      <td>NaN</td>\n      <td>NaN</td>\n      <td>N/A</td>\n      <td>1</td>\n      <td>February 8, 2015 (2015-02-08)</td>\n    </tr>\n    <tr>\n      <td>74</td>\n      <td>NaN</td>\n      <td>NaN</td>\n      <td>NaN</td>\n      <td>NaN</td>\n      <td>NaN</td>\n      <td>NaN</td>\n      <td>NaN</td>\n      <td>\\nA half-hour documentary that covered one day...</td>\n      <td>NaN</td>\n    </tr>\n    <tr>\n      <td>75</td>\n      <td>NaN</td>\n      <td>NaN</td>\n      <td>Game of Thrones: The Last Watch</td>\n      <td>NaN</td>\n      <td>NaN</td>\n      <td>NaN</td>\n      <td>1.63[96]</td>\n      <td>2</td>\n      <td>May 26, 2019 (2019-05-26)</td>\n    </tr>\n    <tr>\n      <td>76</td>\n      <td>NaN</td>\n      <td>NaN</td>\n      <td>NaN</td>\n      <td>NaN</td>\n      <td>NaN</td>\n      <td>NaN</td>\n      <td>NaN</td>\n      <td>\\nA two-hour documentary which documents the m...</td>\n      <td>NaN</td>\n    </tr>\n  </tbody>\n</table>\n<p>77 rows × 9 columns</p>\n</div>"
     },
     "metadata": {},
     "execution_count": 22
    }
   ],
   "source": [
    "df"
   ]
  },
  {
   "cell_type": "code",
   "execution_count": 25,
   "metadata": {},
   "outputs": [
    {
     "output_type": "execute_result",
     "data": {
      "text/plain": [
       "Index(['No.overall', 'No. inseason', 'Title', 'Directed by', 'Written by',\n",
       "       'Original air date [20]', 'U.S. viewers(millions)', 'No.',\n",
       "       'Original air date'],\n",
       "      dtype='object')"
      ]
     },
     "metadata": {},
     "execution_count": 25
    }
   ],
   "source": [
    "df.columns"
   ]
  },
  {
   "cell_type": "code",
   "execution_count": 27,
   "metadata": {},
   "outputs": [],
   "source": [
    "df.drop([\"No.\", \"Original air date\"],axis=1,inplace=True)"
   ]
  },
  {
   "cell_type": "code",
   "execution_count": 28,
   "metadata": {},
   "outputs": [
    {
     "output_type": "execute_result",
     "data": {
      "text/plain": [
       "   No.overall No. inseason                                    Title  \\\n",
       "0           1            1                       \"Winter Is Coming\"   \n",
       "1           2            2                          \"The Kingsroad\"   \n",
       "2           3            3                              \"Lord Snow\"   \n",
       "3           4            4  \"Cripples, Bastards, and Broken Things\"   \n",
       "4           5            5                  \"The Wolf and the Lion\"   \n",
       "..        ...          ...                                      ...   \n",
       "72         73            6                        \"The Iron Throne\"   \n",
       "73        NaN          NaN       Game of Thrones: A Day in the Life   \n",
       "74        NaN          NaN                                      NaN   \n",
       "75        NaN          NaN          Game of Thrones: The Last Watch   \n",
       "76        NaN          NaN                                      NaN   \n",
       "\n",
       "                    Directed by                   Written by  \\\n",
       "0                Tim Van Patten  David Benioff & D. B. Weiss   \n",
       "1                Tim Van Patten  David Benioff & D. B. Weiss   \n",
       "2                    Brian Kirk  David Benioff & D. B. Weiss   \n",
       "3                    Brian Kirk                 Bryan Cogman   \n",
       "4                    Brian Kirk  David Benioff & D. B. Weiss   \n",
       "..                          ...                          ...   \n",
       "72  David Benioff & D. B. Weiss  David Benioff & D. B. Weiss   \n",
       "73                          NaN                          NaN   \n",
       "74                          NaN                          NaN   \n",
       "75                          NaN                          NaN   \n",
       "76                          NaN                          NaN   \n",
       "\n",
       "         Original air date [20] U.S. viewers(millions)  \n",
       "0   April 17, 2011 (2011-04-17)               2.22[21]  \n",
       "1   April 24, 2011 (2011-04-24)               2.20[22]  \n",
       "2      May 1, 2011 (2011-05-01)               2.44[23]  \n",
       "3      May 8, 2011 (2011-05-08)               2.45[24]  \n",
       "4     May 15, 2011 (2011-05-15)               2.58[25]  \n",
       "..                          ...                    ...  \n",
       "72    May 19, 2019 (2019-05-19)              13.61[93]  \n",
       "73                          NaN                    N/A  \n",
       "74                          NaN                    NaN  \n",
       "75                          NaN               1.63[96]  \n",
       "76                          NaN                    NaN  \n",
       "\n",
       "[77 rows x 7 columns]"
      ],
      "text/html": "<div>\n<style scoped>\n    .dataframe tbody tr th:only-of-type {\n        vertical-align: middle;\n    }\n\n    .dataframe tbody tr th {\n        vertical-align: top;\n    }\n\n    .dataframe thead th {\n        text-align: right;\n    }\n</style>\n<table border=\"1\" class=\"dataframe\">\n  <thead>\n    <tr style=\"text-align: right;\">\n      <th></th>\n      <th>No.overall</th>\n      <th>No. inseason</th>\n      <th>Title</th>\n      <th>Directed by</th>\n      <th>Written by</th>\n      <th>Original air date [20]</th>\n      <th>U.S. viewers(millions)</th>\n    </tr>\n  </thead>\n  <tbody>\n    <tr>\n      <td>0</td>\n      <td>1</td>\n      <td>1</td>\n      <td>\"Winter Is Coming\"</td>\n      <td>Tim Van Patten</td>\n      <td>David Benioff &amp; D. B. Weiss</td>\n      <td>April 17, 2011 (2011-04-17)</td>\n      <td>2.22[21]</td>\n    </tr>\n    <tr>\n      <td>1</td>\n      <td>2</td>\n      <td>2</td>\n      <td>\"The Kingsroad\"</td>\n      <td>Tim Van Patten</td>\n      <td>David Benioff &amp; D. B. Weiss</td>\n      <td>April 24, 2011 (2011-04-24)</td>\n      <td>2.20[22]</td>\n    </tr>\n    <tr>\n      <td>2</td>\n      <td>3</td>\n      <td>3</td>\n      <td>\"Lord Snow\"</td>\n      <td>Brian Kirk</td>\n      <td>David Benioff &amp; D. B. Weiss</td>\n      <td>May 1, 2011 (2011-05-01)</td>\n      <td>2.44[23]</td>\n    </tr>\n    <tr>\n      <td>3</td>\n      <td>4</td>\n      <td>4</td>\n      <td>\"Cripples, Bastards, and Broken Things\"</td>\n      <td>Brian Kirk</td>\n      <td>Bryan Cogman</td>\n      <td>May 8, 2011 (2011-05-08)</td>\n      <td>2.45[24]</td>\n    </tr>\n    <tr>\n      <td>4</td>\n      <td>5</td>\n      <td>5</td>\n      <td>\"The Wolf and the Lion\"</td>\n      <td>Brian Kirk</td>\n      <td>David Benioff &amp; D. B. Weiss</td>\n      <td>May 15, 2011 (2011-05-15)</td>\n      <td>2.58[25]</td>\n    </tr>\n    <tr>\n      <td>...</td>\n      <td>...</td>\n      <td>...</td>\n      <td>...</td>\n      <td>...</td>\n      <td>...</td>\n      <td>...</td>\n      <td>...</td>\n    </tr>\n    <tr>\n      <td>72</td>\n      <td>73</td>\n      <td>6</td>\n      <td>\"The Iron Throne\"</td>\n      <td>David Benioff &amp; D. B. Weiss</td>\n      <td>David Benioff &amp; D. B. Weiss</td>\n      <td>May 19, 2019 (2019-05-19)</td>\n      <td>13.61[93]</td>\n    </tr>\n    <tr>\n      <td>73</td>\n      <td>NaN</td>\n      <td>NaN</td>\n      <td>Game of Thrones: A Day in the Life</td>\n      <td>NaN</td>\n      <td>NaN</td>\n      <td>NaN</td>\n      <td>N/A</td>\n    </tr>\n    <tr>\n      <td>74</td>\n      <td>NaN</td>\n      <td>NaN</td>\n      <td>NaN</td>\n      <td>NaN</td>\n      <td>NaN</td>\n      <td>NaN</td>\n      <td>NaN</td>\n    </tr>\n    <tr>\n      <td>75</td>\n      <td>NaN</td>\n      <td>NaN</td>\n      <td>Game of Thrones: The Last Watch</td>\n      <td>NaN</td>\n      <td>NaN</td>\n      <td>NaN</td>\n      <td>1.63[96]</td>\n    </tr>\n    <tr>\n      <td>76</td>\n      <td>NaN</td>\n      <td>NaN</td>\n      <td>NaN</td>\n      <td>NaN</td>\n      <td>NaN</td>\n      <td>NaN</td>\n      <td>NaN</td>\n    </tr>\n  </tbody>\n</table>\n<p>77 rows × 7 columns</p>\n</div>"
     },
     "metadata": {},
     "execution_count": 28
    }
   ],
   "source": [
    "df"
   ]
  },
  {
   "cell_type": "code",
   "execution_count": 30,
   "metadata": {},
   "outputs": [],
   "source": [
    "df.drop([73,74,75,76],inplace=True)"
   ]
  },
  {
   "cell_type": "code",
   "execution_count": 31,
   "metadata": {},
   "outputs": [
    {
     "output_type": "execute_result",
     "data": {
      "text/plain": [
       "   No.overall No. inseason                                    Title  \\\n",
       "0           1            1                       \"Winter Is Coming\"   \n",
       "1           2            2                          \"The Kingsroad\"   \n",
       "2           3            3                              \"Lord Snow\"   \n",
       "3           4            4  \"Cripples, Bastards, and Broken Things\"   \n",
       "4           5            5                  \"The Wolf and the Lion\"   \n",
       "..        ...          ...                                      ...   \n",
       "68         69            2         \"A Knight of the Seven Kingdoms\"   \n",
       "69         70            3                         \"The Long Night\"   \n",
       "70         71            4                 \"The Last of the Starks\"   \n",
       "71         72            5                              \"The Bells\"   \n",
       "72         73            6                        \"The Iron Throne\"   \n",
       "\n",
       "                    Directed by                   Written by  \\\n",
       "0                Tim Van Patten  David Benioff & D. B. Weiss   \n",
       "1                Tim Van Patten  David Benioff & D. B. Weiss   \n",
       "2                    Brian Kirk  David Benioff & D. B. Weiss   \n",
       "3                    Brian Kirk                 Bryan Cogman   \n",
       "4                    Brian Kirk  David Benioff & D. B. Weiss   \n",
       "..                          ...                          ...   \n",
       "68                 David Nutter                 Bryan Cogman   \n",
       "69             Miguel Sapochnik  David Benioff & D. B. Weiss   \n",
       "70                 David Nutter  David Benioff & D. B. Weiss   \n",
       "71             Miguel Sapochnik  David Benioff & D. B. Weiss   \n",
       "72  David Benioff & D. B. Weiss  David Benioff & D. B. Weiss   \n",
       "\n",
       "         Original air date [20] U.S. viewers(millions)  \n",
       "0   April 17, 2011 (2011-04-17)               2.22[21]  \n",
       "1   April 24, 2011 (2011-04-24)               2.20[22]  \n",
       "2      May 1, 2011 (2011-05-01)               2.44[23]  \n",
       "3      May 8, 2011 (2011-05-08)               2.45[24]  \n",
       "4     May 15, 2011 (2011-05-15)               2.58[25]  \n",
       "..                          ...                    ...  \n",
       "68  April 21, 2019 (2019-04-21)              10.29[89]  \n",
       "69  April 28, 2019 (2019-04-28)              12.02[90]  \n",
       "70     May 5, 2019 (2019-05-05)              11.80[91]  \n",
       "71    May 12, 2019 (2019-05-12)              12.48[92]  \n",
       "72    May 19, 2019 (2019-05-19)              13.61[93]  \n",
       "\n",
       "[73 rows x 7 columns]"
      ],
      "text/html": "<div>\n<style scoped>\n    .dataframe tbody tr th:only-of-type {\n        vertical-align: middle;\n    }\n\n    .dataframe tbody tr th {\n        vertical-align: top;\n    }\n\n    .dataframe thead th {\n        text-align: right;\n    }\n</style>\n<table border=\"1\" class=\"dataframe\">\n  <thead>\n    <tr style=\"text-align: right;\">\n      <th></th>\n      <th>No.overall</th>\n      <th>No. inseason</th>\n      <th>Title</th>\n      <th>Directed by</th>\n      <th>Written by</th>\n      <th>Original air date [20]</th>\n      <th>U.S. viewers(millions)</th>\n    </tr>\n  </thead>\n  <tbody>\n    <tr>\n      <td>0</td>\n      <td>1</td>\n      <td>1</td>\n      <td>\"Winter Is Coming\"</td>\n      <td>Tim Van Patten</td>\n      <td>David Benioff &amp; D. B. Weiss</td>\n      <td>April 17, 2011 (2011-04-17)</td>\n      <td>2.22[21]</td>\n    </tr>\n    <tr>\n      <td>1</td>\n      <td>2</td>\n      <td>2</td>\n      <td>\"The Kingsroad\"</td>\n      <td>Tim Van Patten</td>\n      <td>David Benioff &amp; D. B. Weiss</td>\n      <td>April 24, 2011 (2011-04-24)</td>\n      <td>2.20[22]</td>\n    </tr>\n    <tr>\n      <td>2</td>\n      <td>3</td>\n      <td>3</td>\n      <td>\"Lord Snow\"</td>\n      <td>Brian Kirk</td>\n      <td>David Benioff &amp; D. B. Weiss</td>\n      <td>May 1, 2011 (2011-05-01)</td>\n      <td>2.44[23]</td>\n    </tr>\n    <tr>\n      <td>3</td>\n      <td>4</td>\n      <td>4</td>\n      <td>\"Cripples, Bastards, and Broken Things\"</td>\n      <td>Brian Kirk</td>\n      <td>Bryan Cogman</td>\n      <td>May 8, 2011 (2011-05-08)</td>\n      <td>2.45[24]</td>\n    </tr>\n    <tr>\n      <td>4</td>\n      <td>5</td>\n      <td>5</td>\n      <td>\"The Wolf and the Lion\"</td>\n      <td>Brian Kirk</td>\n      <td>David Benioff &amp; D. B. Weiss</td>\n      <td>May 15, 2011 (2011-05-15)</td>\n      <td>2.58[25]</td>\n    </tr>\n    <tr>\n      <td>...</td>\n      <td>...</td>\n      <td>...</td>\n      <td>...</td>\n      <td>...</td>\n      <td>...</td>\n      <td>...</td>\n      <td>...</td>\n    </tr>\n    <tr>\n      <td>68</td>\n      <td>69</td>\n      <td>2</td>\n      <td>\"A Knight of the Seven Kingdoms\"</td>\n      <td>David Nutter</td>\n      <td>Bryan Cogman</td>\n      <td>April 21, 2019 (2019-04-21)</td>\n      <td>10.29[89]</td>\n    </tr>\n    <tr>\n      <td>69</td>\n      <td>70</td>\n      <td>3</td>\n      <td>\"The Long Night\"</td>\n      <td>Miguel Sapochnik</td>\n      <td>David Benioff &amp; D. B. Weiss</td>\n      <td>April 28, 2019 (2019-04-28)</td>\n      <td>12.02[90]</td>\n    </tr>\n    <tr>\n      <td>70</td>\n      <td>71</td>\n      <td>4</td>\n      <td>\"The Last of the Starks\"</td>\n      <td>David Nutter</td>\n      <td>David Benioff &amp; D. B. Weiss</td>\n      <td>May 5, 2019 (2019-05-05)</td>\n      <td>11.80[91]</td>\n    </tr>\n    <tr>\n      <td>71</td>\n      <td>72</td>\n      <td>5</td>\n      <td>\"The Bells\"</td>\n      <td>Miguel Sapochnik</td>\n      <td>David Benioff &amp; D. B. Weiss</td>\n      <td>May 12, 2019 (2019-05-12)</td>\n      <td>12.48[92]</td>\n    </tr>\n    <tr>\n      <td>72</td>\n      <td>73</td>\n      <td>6</td>\n      <td>\"The Iron Throne\"</td>\n      <td>David Benioff &amp; D. B. Weiss</td>\n      <td>David Benioff &amp; D. B. Weiss</td>\n      <td>May 19, 2019 (2019-05-19)</td>\n      <td>13.61[93]</td>\n    </tr>\n  </tbody>\n</table>\n<p>73 rows × 7 columns</p>\n</div>"
     },
     "metadata": {},
     "execution_count": 31
    }
   ],
   "source": [
    "df"
   ]
  },
  {
   "cell_type": "code",
   "execution_count": null,
   "metadata": {},
   "outputs": [],
   "source": []
  }
 ]
}